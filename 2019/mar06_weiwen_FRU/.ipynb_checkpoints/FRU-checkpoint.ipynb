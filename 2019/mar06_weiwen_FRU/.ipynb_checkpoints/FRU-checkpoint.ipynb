{
 "cells": [
  {
   "cell_type": "markdown",
   "metadata": {
    "slideshow": {
     "slide_type": "slide"
    }
   },
   "source": [
    "<h1 style=\"text-align: center;\"> 2019 Spring Quinn Research Group</h1>\n",
    "\n",
    "<h1 style=\"text-align: center;\"> Learning Long Term Dependencies via Fourier Recurrent Units </h1>\n",
    "\n",
    "<h2 style=\"text-align: center;\"> (The Statistical Recurrent Unit) </h2>\n",
    "\n",
    "<h3 style=\"text-align: right;\"> Weiwen Xu </h3>"
   ]
  },
  {
   "cell_type": "markdown",
   "metadata": {
    "slideshow": {
     "slide_type": "slide"
    }
   },
   "source": [
    "<h3>Statistical Recurrent Unit (SRU)</h3>\n",
    "<p></p>\n",
    "\n",
    "<div style=\"display:flex; flex-direction: row; justify-content: center; align-items: center\">\n",
    "     <span>\n",
    "         <ul>\n",
    "             <li>Ungated recurrent unit</li>\n",
    "             <li>Maintain long term sequential dependencies through summary statistics</li>\n",
    "         </ul>\n",
    "     </span>\n",
    "</div>"
   ]
  },
  {
   "cell_type": "markdown",
   "metadata": {},
   "source": [
    "<h3>Summary Statistics?</h3>\n",
    "\n",
    "<div style=\"display:flex; flex-direction: row; justify-content: center; align-items: center\">\n",
    "     <span>\n",
    "         <ul>\n",
    "             <li>Ungated recurrent unit</li>\n",
    "             <li>Maintain long term sequential dependencies through summary statistics</li>\n",
    "         </ul>\n",
    "     </span>\n",
    "</div>\n",
    "\n"
   ]
  },
  {
   "cell_type": "markdown",
   "metadata": {
    "slideshow": {
     "slide_type": "subslide"
    }
   },
   "source": [
    "<h3>Statistical Recurrent Unit (SRU)</h3>\n",
    "\n",
    "Learn dependencies in data by only keeping moving averages of statistics\n",
    "\n"
   ]
  },
  {
   "cell_type": "markdown",
   "metadata": {
    "slideshow": {
     "slide_type": "slide"
    }
   },
   "source": [
    "<h3>Previous Works</h3>"
   ]
  },
  {
   "cell_type": "markdown",
   "metadata": {
    "slideshow": {
     "slide_type": "fragment"
    }
   },
   "source": [
    "<h4>1. Sliding Windows:</h4>\n",
    "<p></p>\n",
    "<div style=\"display:flex; flex-direction: row; justify-content: center; align-items: center\">\n",
    "     \n",
    "     \n",
    "     <span style=\"margin-left:1em;margin-top:11em\"> Problems:<ul><li>Window size?</li><li>Objects of different sizes?</li></ul></span>\n",
    "</div>"
   ]
  },
  {
   "cell_type": "markdown",
   "metadata": {
    "slideshow": {
     "slide_type": "subslide"
    }
   },
   "source": [
    "<h3>Previous Works</h3>\n",
    "<h4>2. Image Pyramids:</h4>\n",
    "<p></p>\n",
    "<div style=\"display:flex; flex-direction: row; justify-content: center; align-items: center\">\n",
    "     <img src='imgs/Image-Pyramids.png' height=10% width=50%></img>\n",
    "     <span style=\"margin-left:1em;margin-top:5em\"> Problem:<ul><li>aspect ratio</li></ul></span>\n",
    "</div>"
   ]
  },
  {
   "cell_type": "markdown",
   "metadata": {
    "slideshow": {
     "slide_type": "slide"
    }
   },
   "source": [
    "<h2>R-CNN (Region-based CNN)</h2>\n",
    "<p></p>\n",
    "<div style=\"display:flex; flex-direction: row; justify-content: center; align-items: center\">\n",
    "     <span><img src='imgs/R-CNN.png'></img></span>\n",
    "</div>"
   ]
  },
  {
   "cell_type": "markdown",
   "metadata": {
    "slideshow": {
     "slide_type": "fragment"
    }
   },
   "source": [
    "<div style=\"display:flex; flex-direction: row; justify-content: center\">\n",
    "     <span>\n",
    "         <h4></h4>\n",
    "         <ul>\n",
    "             <li>Region Proposals:  <a href=\"http://www.huppelen.nl/publications/selectiveSearchDraft.pdf\">Selective Search</a> (~2k)</li>\n",
    "             <li>Feature Extraction: CNN</li>\n",
    "             <li>Classify Regions</li>\n",
    "         </ul>\n",
    "     </span>\n",
    "     <span><br></span>\n",
    "     <span>\n",
    "         <h4>Disadvantage:</h4>\n",
    "         <ul>\n",
    "             <li>Learning is separate (not end-to-end)</li>\n",
    "             <li>Time consuming</li>\n",
    "         </ul>\n",
    "     </span>\n",
    "</div>"
   ]
  },
  {
   "cell_type": "markdown",
   "metadata": {
    "slideshow": {
     "slide_type": "slide"
    }
   },
   "source": [
    "<h2>Fast R-CNN</h2>\n",
    "<p></p>\n",
    "<div style=\"display:flex; flex-direction: row; justify-content: center; align-items: center\">\n",
    "     <img src='imgs/fast-rcnn.png'></img>\n",
    "</div>"
   ]
  },
  {
   "cell_type": "markdown",
   "metadata": {
    "slideshow": {
     "slide_type": "fragment"
    }
   },
   "source": [
    "<div style=\"display:flex; flex-direction: row\">\n",
    "     <span style=\"align-items: left\">\n",
    "        <h4>Improvements:</h4>\n",
    "        <ol>\n",
    "            <li>ROI Pooling</li>\n",
    "            <li>End-to-end Network</li>\n",
    "        </ol>\n",
    "     </span>\n",
    "</div>"
   ]
  },
  {
   "cell_type": "markdown",
   "metadata": {
    "slideshow": {
     "slide_type": "subslide"
    }
   },
   "source": [
    "<h3>RoI (Region of Interest) Pooling</h3>\n",
    "<p style='text-align:right;font-style:italic'>First introduced by Ross Girshick in April 2015.</p>\n",
    "<h4>Aim:</h4> \n",
    "<p>Run a max pool for unequal size inputs and get a fixed size feature map.</p>\n",
    "<div style=\"display:flex; flex-direction: row; justify-content: center; align-items: center\">\n",
    "<img src='imgs/roi-pooling.gif' height=20% width=70%></img>\n",
    "</div>"
   ]
  },
  {
   "cell_type": "markdown",
   "metadata": {
    "slideshow": {
     "slide_type": "slide"
    }
   },
   "source": [
    "<h2>Faster R-CNN</h2>\n",
    "<div style=\"display:flex; flex-direction: row; justify-content: center; align-items: center\">\n",
    "     <img src='imgs/faster-rcnn.png' height=20% width=70%></img>\n",
    "     <span style=\"margin-left:1em;margin-top:11em\">Improvement:\n",
    "            <ul>\n",
    "            <li>Region Proposal Network(RPN)</li>\n",
    "            </ul>\n",
    "     </span>\n",
    "</div>"
   ]
  },
  {
   "cell_type": "markdown",
   "metadata": {
    "slideshow": {
     "slide_type": "subslide"
    }
   },
   "source": [
    "<h2>Base CNN (e.g. VGG16)</h2>\n",
    "<div style=\"display:flex; flex-direction: row; justify-content: center; align-items: center\">\n",
    "     <img src='imgs/vgg16.png'></img>\n",
    "</div>"
   ]
  },
  {
   "cell_type": "markdown",
   "metadata": {
    "slideshow": {
     "slide_type": "subslide"
    }
   },
   "source": [
    "<h2>RPN</h2>"
   ]
  },
  {
   "cell_type": "markdown",
   "metadata": {
    "slideshow": {
     "slide_type": "fragment"
    }
   },
   "source": [
    "<h3>Anchor Boxes</h3>\n",
    "<p></p>\n",
    "<div style=\"display:flex; flex-direction: row; justify-content: center; align-items: center\">\n",
    "     <span>Fixed bounding boxes that are placed throughout the image with different sizes and ratios that are going to be used for reference in RPN.</span>\n",
    "     <div style=\"display:flex; flex-direction: row; justify-content: center; align-items: center\">\n",
    "     <img src='imgs/anchor-boxes.png' height=50% width=70%></img>\n",
    "</div>"
   ]
  },
  {
   "cell_type": "markdown",
   "metadata": {
    "slideshow": {
     "slide_type": "subslide"
    }
   },
   "source": [
    "<h3>Anchors</h3>\n",
    "<p></p>\n",
    "<div style=\"display:flex; flex-direction: row; justify-content: center; align-items: center\">\n",
    "     <img src='imgs/anchors.png'></img>\n",
    "</div>"
   ]
  },
  {
   "cell_type": "markdown",
   "metadata": {
    "slideshow": {
     "slide_type": "subslide"
    }
   },
   "source": [
    "<h3>Anchor Boxes</h3>\n",
    "<p></p>\n",
    "<div style=\"display:flex; flex-direction: row; justify-content: center; align-items: center\">\n",
    "     <span>Define the labels: only positive or negetive\n",
    "         <ol>\n",
    "             <li>Positive label:\n",
    "                 <ul>\n",
    "                     <li>an anchor box with the highest IoU overlap with a ground-truth box</li>\n",
    "                     <li>an anchor box that has an IoU overlap higher than 0.7 with any ground-truth box.</li>\n",
    "                 </ul>\n",
    "             </li>\n",
    "             <li>Negative label:\n",
    "                 <ul>\n",
    "                     <li>an anchor with IoU lower than 0.3</li>\n",
    "                 </ul>\n",
    "             </li>\n",
    "             <li>Neither pos nor neg\n",
    "                 <ul>\n",
    "                     <li>Don't contribute to training objection</li>\n",
    "                 </ul>\n",
    "             </li>\n",
    "         </ol>\n",
    "     </span>\n",
    "</div>"
   ]
  },
  {
   "cell_type": "markdown",
   "metadata": {
    "slideshow": {
     "slide_type": "subslide"
    }
   },
   "source": [
    "<h2>RPN</h2>\n",
    "<p></p>\n",
    "<div style=\"display:flex; flex-direction: row; justify-content:center; align-items: center\">\n",
    "     <img src='imgs/rpn.png'></img>\n",
    "</div>"
   ]
  },
  {
   "cell_type": "markdown",
   "metadata": {
    "slideshow": {
     "slide_type": "subslide"
    }
   },
   "source": [
    "<h2>RPN</h2>\n",
    "<p></p>\n",
    "<div style=\"display:flex; flex-direction: row; justify-content: center; align-items: center\">\n",
    "     <span>\n",
    "     Loss Function: $L(\\{p_{i}\\},\\{{t_{i}}\\})=\\frac{1}{N_{cls}}\\sum_{i}^{}L_{cls}(p_{i},p_{i}^{*}) + \\lambda \\frac{1}{N_{reg}}\\sum_{i}^{}p_{i}^{*}L_{reg}(t_{i},t_{i}^{*})$\n",
    "         <ol>\n",
    "             <li>Classification: $L_{cls}$ is cross entropy between \"groud truth\" and prediction.\n",
    "                 <ul>\n",
    "                     <li>$L_{cls} = \\sum_{i} p_{i}^{*}\\log{\\frac{1}{p_{i}}}$</li>\n",
    "                 </ul>\n",
    "             </li>\n",
    "             <li>Regression: Smooth L1-norm introduced in Fast R-CNN.\n",
    "                 <ul>\n",
    "                     <li>$L_{reg}(t_{i},t_{i}^{*})=smooth_{L_{1}}(t_{i}-t_{i}^{*})$</li>\n",
    "                     \n",
    "                <li>$smooth_{L_{1}}(x)=\\begin{cases}\n",
    "    0.5x^{2},& \\text{if } x<1\\\\\n",
    "    |x|-0.5,& \\text{otherwise}\n",
    "\\end{cases}$</li>\n",
    "                 </ul>\n",
    "             </li>\n",
    "         </ol>\n",
    "     </span>\n",
    "</div>"
   ]
  },
  {
   "cell_type": "markdown",
   "metadata": {
    "slideshow": {
     "slide_type": "subslide"
    }
   },
   "source": [
    "<h2>Performance</h2>\n",
    "<div style=\"display:flex; flex-direction: row; justify-content:center; align-items: center\">\n",
    "     <img src='imgs/cmp.jpeg'></img>\n",
    "</div>\n",
    "<p></p>\n",
    "<div style=\"display:flex; flex-direction: row; justify-content:center; align-items: center\">\n",
    "     <img src='imgs/results.png'></img>\n",
    "</div>"
   ]
  },
  {
   "cell_type": "markdown",
   "metadata": {
    "slideshow": {
     "slide_type": "slide"
    }
   },
   "source": [
    "<h2>References:</h2>\n",
    "\n",
    "[1] [History of Object Detection](https://qiita.com/mshinoda88/items/9770ee671ea27f2c81a9)\n",
    "\n",
    "[2] [Rich feature hierarchies for accurate object detection and semantic segmentation](https://arxiv.org/pdf/1311.2524.pdf)\n",
    "\n",
    "[3] [Selective Search](http://www.huppelen.nl/publications/selectiveSearchDraft.pdf)\n",
    "\n",
    "[4] [ROI Pooling in Tensorflow](https://github.com/deepsense-ai/roi-pooling)\n",
    "\n",
    "[5] [Fast R-CNN](https://arxiv.org/pdf/1504.08083.pdf)\n",
    "\n",
    "[6] [Faster R-CNN: Down the rabbit hole of modern object detection](https://tryolabs.com/blog/2018/01/18/faster-r-cnn-down-the-rabbit-hole-of-modern-object-detection/)"
   ]
  }
 ],
 "metadata": {
  "celltoolbar": "Slideshow",
  "kernelspec": {
   "display_name": "Python 3",
   "language": "python",
   "name": "python3"
  },
  "language_info": {
   "codemirror_mode": {
    "name": "ipython",
    "version": 3
   },
   "file_extension": ".py",
   "mimetype": "text/x-python",
   "name": "python",
   "nbconvert_exporter": "python",
   "pygments_lexer": "ipython3",
   "version": "3.6.3"
  }
 },
 "nbformat": 4,
 "nbformat_minor": 2
}
